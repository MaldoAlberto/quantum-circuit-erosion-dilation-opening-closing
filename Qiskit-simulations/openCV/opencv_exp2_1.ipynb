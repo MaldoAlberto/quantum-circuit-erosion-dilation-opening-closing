{
  "nbformat": 4,
  "nbformat_minor": 0,
  "metadata": {
    "colab": {
      "name": "opencv_exp2_1.ipynb",
      "provenance": [],
      "toc_visible": true
    },
    "kernelspec": {
      "name": "python3",
      "display_name": "Python 3"
    }
  },
  "cells": [
    {
      "cell_type": "code",
      "metadata": {
        "id": "2H4PE2nrf-6t",
        "colab_type": "code",
        "outputId": "22a663c0-61d3-4578-e31f-062ed4b490a9",
        "colab": {
          "base_uri": "https://localhost:8080/",
          "height": 607
        }
      },
      "source": [
        "from PIL import Image\n",
        "import numpy as np\n",
        "arr = np.zeros((6,6),np.uint8)\n",
        "\n",
        "#arr[0][0],arr[0][1],arr[1][0],arr[1][1],arr[1][3] = 1,1,1,1,1\n",
        "#arr[2][0],arr[2][3],arr[3][3] = 1,1,1\n",
        "\n",
        "arr[1][1],arr[1][2],arr[2][1],arr[2][2],arr[2][4] = 1,1,1,1,1\n",
        "arr[3][1],arr[3][4],arr[4][4] = 1,1,1\n",
        "arr[2][3] = 1\n",
        "print(\"arreglo equivalente a la imagen\")\n",
        "print(arr)\n",
        "im = Image.fromarray(arr)\n",
        "im.save(\"sample1.png\")\n",
        "\n",
        "print\n",
        "print\n",
        "\n",
        "import cv2 \n",
        "img = cv2.imread('lenna_by.png', 0) \n",
        "kernel =cv2.getStructuringElement(cv2.MORPH_RECT,(2,2))\n",
        "\n",
        "\n",
        "\n",
        "\n",
        "scale_percent = 25 # percent of original size\n",
        "width = int(img.shape[1] * scale_percent / 100)\n",
        "height = int(img.shape[0] * scale_percent / 100)\n",
        "dim = (width, height) \n",
        "\n",
        "\n",
        "imagen_entrada = cv2.resize(img, dim, interpolation = cv2.INTER_AREA) \n",
        "print(len(imagen_entrada))\n",
        "\n",
        "ret, imagen_entrada = cv2.threshold(imagen_entrada,127,512,cv2.THRESH_BINARY)\n",
        "\n",
        "imagen_entrada= imagen_entrada/255\n",
        "#imagen_entrada= imagen_entrada.astype(int)\n",
        "\n",
        "print(len(imagen_entrada), len(imagen_entrada[0]))\n",
        "\n",
        "\n",
        "print()\n",
        "\n",
        "\n",
        "img_erosion = cv2.erode(imagen_entrada, kernel, iterations=1) \n",
        "img_dilation = cv2.dilate(imagen_entrada, kernel, iterations=1) \n",
        "print(\"kernel:\")\n",
        "print(kernel ) \n",
        "print()\n",
        "print()\n",
        "\n",
        "print( \"resultado de la erosion\")\n",
        "print( img_erosion)\n",
        "print(len(img_erosion))\n",
        "\n",
        "print()\n",
        "print()\n",
        "\n",
        "print( \"resultado de la dilatacion\")\n",
        "print( img_dilation)\n"
      ],
      "execution_count": 0,
      "outputs": [
        {
          "output_type": "stream",
          "text": [
            "arreglo equivalente a la imagen\n",
            "[[0 0 0 0 0 0]\n",
            " [0 1 1 0 0 0]\n",
            " [0 1 1 1 1 0]\n",
            " [0 1 0 0 1 0]\n",
            " [0 0 0 0 1 0]\n",
            " [0 0 0 0 0 0]]\n",
            "128\n",
            "128 128\n",
            "\n",
            "kernel:\n",
            "[[1 1]\n",
            " [1 1]]\n",
            "\n",
            "\n",
            "resultado de la erosion\n",
            "[[1. 1. 1. ... 1. 1. 1.]\n",
            " [1. 1. 1. ... 1. 1. 0.]\n",
            " [1. 1. 1. ... 0. 0. 0.]\n",
            " ...\n",
            " [0. 0. 0. ... 0. 0. 0.]\n",
            " [0. 0. 0. ... 0. 0. 0.]\n",
            " [0. 0. 0. ... 0. 0. 0.]]\n",
            "128\n",
            "\n",
            "\n",
            "resultado de la dilatacion\n",
            "[[1. 1. 1. ... 1. 1. 1.]\n",
            " [1. 1. 1. ... 1. 1. 1.]\n",
            " [1. 1. 1. ... 1. 1. 1.]\n",
            " ...\n",
            " [0. 0. 0. ... 0. 0. 0.]\n",
            " [0. 0. 0. ... 0. 0. 0.]\n",
            " [0. 0. 0. ... 0. 0. 0.]]\n"
          ],
          "name": "stdout"
        }
      ]
    },
    {
      "cell_type": "code",
      "metadata": {
        "id": "VlnPUwFTsnt1",
        "colab_type": "code",
        "colab": {}
      },
      "source": [
        ""
      ],
      "execution_count": 0,
      "outputs": []
    },
    {
      "cell_type": "code",
      "metadata": {
        "id": "8HZZLo4tguYL",
        "colab_type": "code",
        "outputId": "7750a20f-f390-4f64-df59-415eaefc54ac",
        "colab": {
          "base_uri": "https://localhost:8080/",
          "height": 823
        }
      },
      "source": [
        "from pylab import *\n",
        "print(\"Imagen de entrada\")\n",
        "figure(1)\n",
        "imshow(img, interpolation='nearest')\n",
        "grid(True)\n",
        "\n",
        "print(\"Imagen dilatada\")\n",
        "figure(2)\n",
        "imshow(img_dilation, interpolation='nearest')\n",
        "grid(True)\n",
        "\n",
        "\n",
        "print(\"Imagen erosionada\")\n",
        "figure(3)\n",
        "imshow(img_erosion, interpolation='nearest')\n",
        "grid(True)\n"
      ],
      "execution_count": 0,
      "outputs": [
        {
          "output_type": "stream",
          "text": [
            "Imagen de entrada\n",
            "Imagen dilatada\n",
            "Imagen erosionada\n"
          ],
          "name": "stdout"
        },
        {
          "output_type": "display_data",
          "data": {
            "image/png": "[encoded data removed]",
            "text/plain": [
              "<Figure size 432x288 with 1 Axes>"
            ]
          },
          "metadata": {
            "tags": []
          }
        },
        {
          "output_type": "display_data",
          "data": {
            "image/png": "[encoded data removed]",
            "text/plain": [
              "<Figure size 432x288 with 1 Axes>"
            ]
          },
          "metadata": {
            "tags": []
          }
        },
        {
          "output_type": "display_data",
          "data": {
            "image/png": "[encoded data removed]",
            "text/plain": [
              "<Figure size 432x288 with 1 Axes>"
            ]
          },
          "metadata": {
            "tags": []
          }
        }
      ]
    }
  ]
}