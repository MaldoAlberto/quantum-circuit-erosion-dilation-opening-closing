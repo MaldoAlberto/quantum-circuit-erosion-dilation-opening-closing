{
  "nbformat": 4,
  "nbformat_minor": 0,
  "metadata": {
    "colab": {
      "name": "qiskit_exp4_128_apertura_clausura.ipynb",
      "provenance": [],
      "collapsed_sections": []
    },
    "kernelspec": {
      "name": "python3",
      "display_name": "Python 3"
    }
  },
  "cells": [
    {
      "cell_type": "code",
      "metadata": {
        "id": "DSCfEFmDgTgr",
        "colab_type": "code",
        "outputId": "70ecc172-c30a-4653-b8de-7a8fd234dad1",
        "colab": {
          "base_uri": "https://localhost:8080/",
          "height": 1000
        }
      },
      "source": [
        "!pip install qiskit"
      ],
      "execution_count": 0,
      "outputs": [
        {
          "output_type": "stream",
          "text": [
            "Collecting qiskit\n",
            "  Downloading https://files.pythonhosted.org/packages/31/03/9a823e07f7b15ff8f474f09e30b756eb861ed0251f77d225ebef3aa13094/qiskit-0.16.2.tar.gz\n",
            "Collecting qiskit-terra==0.12.0\n",
            "\u001b[?25l  Downloading https://files.pythonhosted.org/packages/30/6e/3aada46aa05013279b918002a6123d9cf5d4014d65cef90f7f5306969ccc/qiskit_terra-0.12.0-cp36-cp36m-manylinux2010_x86_64.whl (2.9MB)\n",
            "\u001b[K     |████████████████████████████████| 2.9MB 2.8MB/s \n",
            "\u001b[?25hCollecting qiskit-aer==0.4.1\n",
            "\u001b[?25l  Downloading https://files.pythonhosted.org/packages/8e/02/0869865f03d799d135a550426f4f22d344b2eb6f555b42ff028ec16c8ebd/qiskit_aer-0.4.1-cp36-cp36m-manylinux2010_x86_64.whl (23.0MB)\n",
            "\u001b[K     |████████████████████████████████| 23.0MB 1.2MB/s \n",
            "\u001b[?25hCollecting qiskit-ibmq-provider==0.5.0\n",
            "\u001b[?25l  Downloading https://files.pythonhosted.org/packages/18/4f/49911087def9ba45406f18d10cc64e4ee73d8921e8d3fa2e5bf2abee3b71/qiskit_ibmq_provider-0.5.0-py3-none-any.whl (140kB)\n",
            "\u001b[K     |████████████████████████████████| 143kB 45.2MB/s \n",
            "\u001b[?25hCollecting qiskit-ignis==0.2.0\n",
            "\u001b[?25l  Downloading https://files.pythonhosted.org/packages/78/f2/f4f89c65d2c13f473092f7e800519836611ddeeaab8d4591a70555b26a37/qiskit_ignis-0.2.0-py3-none-any.whl (100kB)\n",
            "\u001b[K     |████████████████████████████████| 102kB 13.1MB/s \n",
            "\u001b[?25hCollecting qiskit-aqua==0.6.5\n",
            "\u001b[?25l  Downloading https://files.pythonhosted.org/packages/25/2d/ef2b2672c544a85a799dccc0de3c8dab88bee1b92cc84c302e01808eecfb/qiskit_aqua-0.6.5-py3-none-any.whl (1.8MB)\n",
            "\u001b[K     |████████████████████████████████| 1.8MB 44.2MB/s \n",
            "\u001b[?25hRequirement already satisfied: networkx>=2.2; python_version > \"3.5\" in /usr/local/lib/python3.6/dist-packages (from qiskit-terra==0.12.0->qiskit) (2.4)\n",
            "Collecting ply>=3.10\n",
            "\u001b[?25l  Downloading https://files.pythonhosted.org/packages/a3/58/35da89ee790598a0700ea49b2a66594140f44dec458c07e8e3d4979137fc/ply-3.11-py2.py3-none-any.whl (49kB)\n",
            "\u001b[K     |████████████████████████████████| 51kB 7.6MB/s \n",
            "\u001b[?25hRequirement already satisfied: psutil>=5 in /usr/local/lib/python3.6/dist-packages (from qiskit-terra==0.12.0->qiskit) (5.4.8)\n",
            "Requirement already satisfied: scipy>=1.0 in /usr/local/lib/python3.6/dist-packages (from qiskit-terra==0.12.0->qiskit) (1.4.1)\n",
            "Requirement already satisfied: jsonschema>=2.6 in /usr/local/lib/python3.6/dist-packages (from qiskit-terra==0.12.0->qiskit) (2.6.0)\n",
            "Requirement already satisfied: numpy>=1.13 in /usr/local/lib/python3.6/dist-packages (from qiskit-terra==0.12.0->qiskit) (1.18.2)\n",
            "Collecting marshmallow-polyfield<6,>=5.7\n",
            "  Downloading https://files.pythonhosted.org/packages/0c/7e/ceb805d05cd03709b8de122b4ac1e736c4eb91d05281ad2a2bcb484accef/marshmallow-polyfield-5.9.tar.gz\n",
            "Requirement already satisfied: dill>=0.3 in /usr/local/lib/python3.6/dist-packages (from qiskit-terra==0.12.0->qiskit) (0.3.1.1)\n",
            "Collecting marshmallow<4,>=3\n",
            "\u001b[?25l  Downloading https://files.pythonhosted.org/packages/d8/0b/bb43d7610e71d87e8537025841c248471dbf938c676d32b8f94c82148c04/marshmallow-3.5.1-py2.py3-none-any.whl (45kB)\n",
            "\u001b[K     |████████████████████████████████| 51kB 7.7MB/s \n",
            "\u001b[?25hCollecting sympy>=1.3\n",
            "\u001b[?25l  Downloading https://files.pythonhosted.org/packages/ce/5b/acc12e3c0d0be685601fc2b2d20ed18dc0bf461380e763afc9d0a548deb0/sympy-1.5.1-py2.py3-none-any.whl (5.6MB)\n",
            "\u001b[K     |████████████████████████████████| 5.6MB 28.9MB/s \n",
            "\u001b[?25hCollecting pybind11>=2.4\n",
            "\u001b[?25l  Downloading https://files.pythonhosted.org/packages/89/e3/d576f6f02bc75bacbc3d42494e8f1d063c95617d86648dba243c2cb3963e/pybind11-2.5.0-py2.py3-none-any.whl (296kB)\n",
            "\u001b[K     |████████████████████████████████| 296kB 59.3MB/s \n",
            "\u001b[?25hRequirement already satisfied: cython>=0.27.1 in /usr/local/lib/python3.6/dist-packages (from qiskit-aer==0.4.1->qiskit) (0.29.16)\n",
            "Collecting nest-asyncio!=1.1.0,>=1.0.0\n",
            "  Downloading https://files.pythonhosted.org/packages/fb/98/f4add7297a8d586fe7ac756707673d03d97b9ed7c171291bb43889dbfbc5/nest_asyncio-1.3.2-py3-none-any.whl\n",
            "Collecting arrow>=0.15.5\n",
            "\u001b[?25l  Downloading https://files.pythonhosted.org/packages/92/fa/f84896dede5decf284e6922134bf03fd26c90870bbf8015f4e8ee2a07bcc/arrow-0.15.5-py2.py3-none-any.whl (46kB)\n",
            "\u001b[K     |████████████████████████████████| 51kB 7.8MB/s \n",
            "\u001b[?25hCollecting websockets<8,>=7\n",
            "\u001b[?25l  Downloading https://files.pythonhosted.org/packages/43/71/8bfa882b9c502c36e5c9ef6732969533670d2b039cbf95a82ced8f762b80/websockets-7.0-cp36-cp36m-manylinux1_x86_64.whl (63kB)\n",
            "\u001b[K     |████████████████████████████████| 71kB 10.0MB/s \n",
            "\u001b[?25hCollecting requests-ntlm>=1.1.0\n",
            "  Downloading https://files.pythonhosted.org/packages/03/4b/8b9a1afde8072c4d5710d9fa91433d504325821b038e00237dc8d6d833dc/requests_ntlm-1.1.0-py2.py3-none-any.whl\n",
            "Requirement already satisfied: requests>=2.19 in /usr/local/lib/python3.6/dist-packages (from qiskit-ibmq-provider==0.5.0->qiskit) (2.21.0)\n",
            "Requirement already satisfied: setuptools>=40.1.0 in /usr/local/lib/python3.6/dist-packages (from qiskit-ignis==0.2.0->qiskit) (46.0.0)\n",
            "Requirement already satisfied: fastdtw in /usr/local/lib/python3.6/dist-packages (from qiskit-aqua==0.6.5->qiskit) (0.3.4)\n",
            "Collecting quandl\n",
            "  Downloading https://files.pythonhosted.org/packages/07/ab/8cd479fba8a9b197a43a0d55dd534b066fb8e5a0a04b5c0384cbc5d663aa/Quandl-3.5.0-py2.py3-none-any.whl\n",
            "Collecting docplex\n",
            "\u001b[?25l  Downloading https://files.pythonhosted.org/packages/03/a8/5dc675dbe179a2bd4d1d40522f009b4517ad32890d55ae49449709128d0a/docplex-2.13.184.tar.gz (571kB)\n",
            "\u001b[K     |████████████████████████████████| 573kB 60.5MB/s \n",
            "\u001b[?25hRequirement already satisfied: scikit-learn>=0.20.0 in /usr/local/lib/python3.6/dist-packages (from qiskit-aqua==0.6.5->qiskit) (0.22.2.post1)\n",
            "Requirement already satisfied: h5py in /usr/local/lib/python3.6/dist-packages (from qiskit-aqua==0.6.5->qiskit) (2.10.0)\n",
            "Collecting pyscf; sys_platform == \"linux\" or (python_version < \"3.8\" and sys_platform != \"win32\")\n",
            "\u001b[?25l  Downloading https://files.pythonhosted.org/packages/7a/ea/8ebe88368935dcc9a1a309764846e0bf5d04352d44067741aab3626ceb7f/pyscf-1.7.1-cp36-cp36m-manylinux1_x86_64.whl (24.3MB)\n",
            "\u001b[K     |████████████████████████████████| 24.3MB 1.6MB/s \n",
            "\u001b[?25hCollecting dlx\n",
            "  Downloading https://files.pythonhosted.org/packages/54/c0/b8fb5bb727e983b6f5251433ef941b48f38c65bb0bd6ec509e9185bcd406/dlx-1.0.4.tar.gz\n",
            "Requirement already satisfied: decorator>=4.3.0 in /usr/local/lib/python3.6/dist-packages (from networkx>=2.2; python_version > \"3.5\"->qiskit-terra==0.12.0->qiskit) (4.4.2)\n",
            "Requirement already satisfied: mpmath>=0.19 in /usr/local/lib/python3.6/dist-packages (from sympy>=1.3->qiskit-terra==0.12.0->qiskit) (1.1.0)\n",
            "Requirement already satisfied: python-dateutil in /usr/local/lib/python3.6/dist-packages (from arrow>=0.15.5->qiskit-ibmq-provider==0.5.0->qiskit) (2.8.1)\n",
            "Collecting ntlm-auth>=1.0.2\n",
            "  Downloading https://files.pythonhosted.org/packages/50/09/5e397eb18685b14fd8b209e26cdb4fa6451c82c1bcc651fef05fa73e7b27/ntlm_auth-1.4.0-py2.py3-none-any.whl\n",
            "Collecting cryptography>=1.3\n",
            "\u001b[?25l  Downloading https://files.pythonhosted.org/packages/ca/9a/7cece52c46546e214e10811b36b2da52ce1ea7fa203203a629b8dfadad53/cryptography-2.8-cp34-abi3-manylinux2010_x86_64.whl (2.3MB)\n",
            "\u001b[K     |████████████████████████████████| 2.3MB 38.5MB/s \n",
            "\u001b[?25hRequirement already satisfied: idna<2.9,>=2.5 in /usr/local/lib/python3.6/dist-packages (from requests>=2.19->qiskit-ibmq-provider==0.5.0->qiskit) (2.8)\n",
            "Requirement already satisfied: chardet<3.1.0,>=3.0.2 in /usr/local/lib/python3.6/dist-packages (from requests>=2.19->qiskit-ibmq-provider==0.5.0->qiskit) (3.0.4)\n",
            "Requirement already satisfied: urllib3<1.25,>=1.21.1 in /usr/local/lib/python3.6/dist-packages (from requests>=2.19->qiskit-ibmq-provider==0.5.0->qiskit) (1.24.3)\n",
            "Requirement already satisfied: certifi>=2017.4.17 in /usr/local/lib/python3.6/dist-packages (from requests>=2.19->qiskit-ibmq-provider==0.5.0->qiskit) (2019.11.28)\n",
            "Requirement already satisfied: six in /usr/local/lib/python3.6/dist-packages (from quandl->qiskit-aqua==0.6.5->qiskit) (1.12.0)\n",
            "Requirement already satisfied: pandas>=0.14 in /usr/local/lib/python3.6/dist-packages (from quandl->qiskit-aqua==0.6.5->qiskit) (1.0.3)\n",
            "Collecting inflection>=0.3.1\n",
            "  Downloading https://files.pythonhosted.org/packages/d5/35/a6eb45b4e2356fe688b21570864d4aa0d0a880ce387defe9c589112077f8/inflection-0.3.1.tar.gz\n",
            "Requirement already satisfied: more-itertools in /usr/local/lib/python3.6/dist-packages (from quandl->qiskit-aqua==0.6.5->qiskit) (8.2.0)\n",
            "Requirement already satisfied: joblib>=0.11 in /usr/local/lib/python3.6/dist-packages (from scikit-learn>=0.20.0->qiskit-aqua==0.6.5->qiskit) (0.14.1)\n",
            "Requirement already satisfied: cffi!=1.11.3,>=1.8 in /usr/local/lib/python3.6/dist-packages (from cryptography>=1.3->requests-ntlm>=1.1.0->qiskit-ibmq-provider==0.5.0->qiskit) (1.14.0)\n",
            "Requirement already satisfied: pytz>=2017.2 in /usr/local/lib/python3.6/dist-packages (from pandas>=0.14->quandl->qiskit-aqua==0.6.5->qiskit) (2018.9)\n",
            "Requirement already satisfied: pycparser in /usr/local/lib/python3.6/dist-packages (from cffi!=1.11.3,>=1.8->cryptography>=1.3->requests-ntlm>=1.1.0->qiskit-ibmq-provider==0.5.0->qiskit) (2.20)\n",
            "Building wheels for collected packages: qiskit, marshmallow-polyfield, docplex, dlx, inflection\n",
            "  Building wheel for qiskit (setup.py) ... \u001b[?25l\u001b[?25hdone\n",
            "  Created wheel for qiskit: filename=qiskit-0.16.2-cp36-none-any.whl size=2898 sha256=2a54e7fb8e9ecde099db951eddf747739b3dfbb99cb2e69387f2360f1ba28829\n",
            "  Stored in directory: /root/.cache/pip/wheels/8d/eb/5a/ce0d4fa7714b1b698c55bfbe41179f3993ac6a67f992cbf82e\n",
            "  Building wheel for marshmallow-polyfield (setup.py) ... \u001b[?25l\u001b[?25hdone\n",
            "  Created wheel for marshmallow-polyfield: filename=marshmallow_polyfield-5.9-cp36-none-any.whl size=8537 sha256=c4150f4d4a0fc2c15e8ecec076381b3368a3ce1b37f00572292178356b005837\n",
            "  Stored in directory: /root/.cache/pip/wheels/69/27/3e/7472f75eab2db111aa387715fe009af15899459517fc1a1906\n",
            "  Building wheel for docplex (setup.py) ... \u001b[?25l\u001b[?25hdone\n",
            "  Created wheel for docplex: filename=docplex-2.13.184-cp36-none-any.whl size=633100 sha256=78e619f35ac12f57c80ad9dc812d7c25889f28ee7ebc5070f00752358b1470ec\n",
            "  Stored in directory: /root/.cache/pip/wheels/35/67/46/e9d3c1cb652addc314816a29396c1c427c2735e8f6c656aab3\n",
            "  Building wheel for dlx (setup.py) ... \u001b[?25l\u001b[?25hdone\n",
            "  Created wheel for dlx: filename=dlx-1.0.4-cp36-none-any.whl size=5712 sha256=dc6adb7eb3a4c3c4514d03fbd163c02648dc93c5e55d9ede1dc5ff4f8aae5715\n",
            "  Stored in directory: /root/.cache/pip/wheels/bb/ba/15/fdd0deb104df3254912998150ba9245668db06b00af5912d1a\n",
            "  Building wheel for inflection (setup.py) ... \u001b[?25l\u001b[?25hdone\n",
            "  Created wheel for inflection: filename=inflection-0.3.1-cp36-none-any.whl size=6077 sha256=fa4b9cb39338b2f1ebfffea4b9274c370cc5d62449e02074010e27a25c7c1c48\n",
            "  Stored in directory: /root/.cache/pip/wheels/9f/5a/d3/6fc3bf6516d2a3eb7e18f9f28b472110b59325f3f258fe9211\n",
            "Successfully built qiskit marshmallow-polyfield docplex dlx inflection\n",
            "Installing collected packages: ply, marshmallow, marshmallow-polyfield, sympy, qiskit-terra, pybind11, qiskit-aer, nest-asyncio, arrow, websockets, ntlm-auth, cryptography, requests-ntlm, qiskit-ibmq-provider, qiskit-ignis, inflection, quandl, docplex, pyscf, dlx, qiskit-aqua, qiskit\n",
            "  Found existing installation: sympy 1.1.1\n",
            "    Uninstalling sympy-1.1.1:\n",
            "      Successfully uninstalled sympy-1.1.1\n",
            "Successfully installed arrow-0.15.5 cryptography-2.8 dlx-1.0.4 docplex-2.13.184 inflection-0.3.1 marshmallow-3.5.1 marshmallow-polyfield-5.9 nest-asyncio-1.3.2 ntlm-auth-1.4.0 ply-3.11 pybind11-2.5.0 pyscf-1.7.1 qiskit-0.16.2 qiskit-aer-0.4.1 qiskit-aqua-0.6.5 qiskit-ibmq-provider-0.5.0 qiskit-ignis-0.2.0 qiskit-terra-0.12.0 quandl-3.5.0 requests-ntlm-1.1.0 sympy-1.5.1 websockets-7.0\n"
          ],
          "name": "stdout"
        }
      ]
    },
    {
      "cell_type": "code",
      "metadata": {
        "id": "AmiZ6AwugQxU",
        "colab_type": "code",
        "outputId": "f0f99386-6ef0-49b8-bf36-05a67b3cc967",
        "colab": {
          "base_uri": "https://localhost:8080/",
          "height": 34
        }
      },
      "source": [
        "import qiskit\n",
        "qiskit.__version__\n"
      ],
      "execution_count": 0,
      "outputs": [
        {
          "output_type": "execute_result",
          "data": {
            "text/plain": [
              "'0.12.0'"
            ]
          },
          "metadata": {
            "tags": []
          },
          "execution_count": 2
        }
      ]
    },
    {
      "cell_type": "code",
      "metadata": {
        "id": "EJwvMjQgDJEv",
        "colab_type": "code",
        "colab": {}
      },
      "source": [
        "import numpy as np\n",
        "from qiskit import(\n",
        "  QuantumCircuit,\n",
        "  execute,\n",
        "  Aer)\n",
        "from qiskit.visualization import plot_histogram"
      ],
      "execution_count": 0,
      "outputs": []
    },
    {
      "cell_type": "code",
      "metadata": {
        "id": "1-iAORXZyVFg",
        "colab_type": "code",
        "outputId": "b5429ece-af6a-4c20-aeb9-ace304b57595",
        "colab": {
          "base_uri": "https://localhost:8080/",
          "height": 434
        }
      },
      "source": [
        "import cv2 \n",
        "#img = cv2.imread('lenna_by.png', 0) \n",
        "img = cv2.imread('baboon.png', 0) \n",
        "kernel =cv2.getStructuringElement(cv2.MORPH_RECT,(2,2))\n",
        "\n",
        "scale_percent = 25 # percent of original size\n",
        "width = int(img.shape[1] * scale_percent / 100)\n",
        "height = int(img.shape[0] * scale_percent / 100)\n",
        "dim = (width, height)\n",
        "\n",
        "img = cv2.resize(img, dim, interpolation = cv2.INTER_AREA) \n",
        "ret, img = cv2.threshold(img,127,512,cv2.THRESH_BINARY)\n",
        "\n",
        "#img= img/255\n",
        "#img= img.astype(int)\n",
        "\n",
        "\n",
        "#img_erosion = cv2.erode(img, kernel, iterations=1) \n",
        "img_opening= cv2.morphologyEx(img, cv2.MORPH_OPEN, kernel)\n",
        "img_closing= cv2.morphologyEx(img, cv2.MORPH_CLOSE, kernel)\n",
        "print(\"kernel:\")\n",
        "print(kernel ) \n",
        "print()\n",
        "print()\n",
        "\n",
        "print( \"resultado de la erosion\")\n",
        "print( img_opening)\n",
        "print()\n",
        "print()\n",
        "\n",
        "print( \"resultado de la dilatacion\")\n",
        "print( img_closing)\n",
        "\n",
        "print(width)"
      ],
      "execution_count": 0,
      "outputs": [
        {
          "output_type": "stream",
          "text": [
            "kernel:\n",
            "[[1 1]\n",
            " [1 1]]\n",
            "\n",
            "\n",
            "resultado de la erosion\n",
            "[[  0   0   0 ...   0   0   0]\n",
            " [  0   0   0 ...   0   0   0]\n",
            " [  0   0   0 ...   0   0   0]\n",
            " ...\n",
            " [255 255 255 ...   0   0   0]\n",
            " [255 255 255 ...   0   0   0]\n",
            " [  0   0 255 ...   0   0   0]]\n",
            "\n",
            "\n",
            "resultado de la dilatacion\n",
            "[[  0   0   0 ...   0   0   0]\n",
            " [  0   0   0 ...   0   0   0]\n",
            " [  0   0   0 ... 255   0   0]\n",
            " ...\n",
            " [255 255 255 ...   0   0   0]\n",
            " [255 255 255 ...   0   0   0]\n",
            " [  0   0 255 ...   0   0   0]]\n",
            "128\n"
          ],
          "name": "stdout"
        }
      ]
    },
    {
      "cell_type": "code",
      "metadata": {
        "id": "NDWKV0t-gM0Q",
        "colab_type": "code",
        "colab": {}
      },
      "source": [
        ""
      ],
      "execution_count": 0,
      "outputs": []
    },
    {
      "cell_type": "code",
      "metadata": {
        "id": "g7tmFiCsEt4c",
        "colab_type": "code",
        "outputId": "502910ad-67cc-4e01-d272-0f0e3355b4aa",
        "colab": {
          "base_uri": "https://localhost:8080/",
          "height": 139
        }
      },
      "source": [
        "import cv2 \n",
        "#imagen_entrada = cv2.imread('lenna_by.png', 0) \n",
        "imagen_entrada = cv2.imread('baboon.png',0)\n",
        "\n",
        "scale_percent = 25 # percent of original size\n",
        "width = int(imagen_entrada.shape[1] * scale_percent / 100)\n",
        "height = int(imagen_entrada.shape[0] * scale_percent / 100)\n",
        "dim = (width, height)\n",
        "\n",
        "imagen_entrada = cv2.resize(imagen_entrada, dim, interpolation = cv2.INTER_AREA) \n",
        "ret, imagen_entrada = cv2.threshold(imagen_entrada,127,512,cv2.THRESH_BINARY)\n",
        "\n",
        "imagen_entrada= imagen_entrada/255\n",
        "imagen_entrada= imagen_entrada.astype(int)\n",
        "\n",
        "a = np.zeros(len(imagen_entrada), dtype = int).reshape(len(imagen_entrada),1)\n",
        "imagen_entrada = np.concatenate((a, imagen_entrada), axis=1)\n",
        "\n",
        "a = np.zeros(len(imagen_entrada[0]), dtype = int).reshape(1,len(imagen_entrada[0]))\n",
        "imagen_entrada = np.concatenate((a, imagen_entrada), axis=0)\n",
        "\n",
        "\n",
        "# para agregar columnas de ceros es iniciar uno a la iquierda y luego uno a la derecha,  y asíí hasta tener  n-1 del tamaño de la imagen de ancho\n",
        "print(imagen_entrada, len(imagen_entrada),len(imagen_entrada[0]))\n",
        "#salidas erosion y dilatacion\n",
        "erosion= []\n",
        "dilatacion = []\n"
      ],
      "execution_count": 0,
      "outputs": [
        {
          "output_type": "stream",
          "text": [
            "[[0 0 0 ... 0 0 0]\n",
            " [0 0 0 ... 0 0 0]\n",
            " [0 0 0 ... 0 0 0]\n",
            " ...\n",
            " [0 1 1 ... 0 0 0]\n",
            " [0 0 1 ... 0 0 0]\n",
            " [0 0 0 ... 0 0 0]] 129 129\n"
          ],
          "name": "stdout"
        }
      ]
    },
    {
      "cell_type": "code",
      "metadata": {
        "id": "nHwHo22ODhdG",
        "colab_type": "code",
        "colab": {}
      },
      "source": [
        "def compuerta(circuit,a,b,c):\n",
        "  circuit.x(a)\n",
        "  circuit.toffoli(a,b,c)\n",
        "  circuit.cx(c, b)\n",
        "  #circuit.x(a)\n",
        "  circuit.cx(a,c)\n",
        "  #circuit.cx(a,b)\n",
        "\n"
      ],
      "execution_count": 0,
      "outputs": []
    },
    {
      "cell_type": "code",
      "metadata": {
        "id": "_ZTvcUzMO949",
        "colab_type": "code",
        "colab": {}
      },
      "source": [
        "def twoGate(circuit,imagen_entrada,i,j,a,b,c,d,e,f,g,x0,x1):\n",
        "  if imagen_entrada[i][j] == 1:\n",
        "    circuit.x(a)\n",
        "  if x0 == 1:\n",
        "    circuit.x(b)\n",
        "  elif x0 == 2:\n",
        "    circuit.h(b)\n",
        "    circuit.s(b)\n",
        "    circuit.h(b)\n",
        "  if imagen_entrada[i][j+1] == 1:\n",
        "    circuit.x(d)\n",
        "  if x1 == 1:\n",
        "    circuit.x(e)\n",
        "  elif x1 == 2:\n",
        "    circuit.h(b)\n",
        "    circuit.s(e)\n",
        "    circuit.h(e)\n",
        "  #circuit.h(c)\n",
        "  #circuit.h(f)\n",
        "  #circuit.h(g)\n",
        "  compuerta(circuit,a,b,c)\n",
        "  compuerta(circuit,d,e,f)\n",
        "  compuerta(circuit,b,e,g) \n"
      ],
      "execution_count": 0,
      "outputs": []
    },
    {
      "cell_type": "code",
      "metadata": {
        "id": "x60U-SEy_VM5",
        "colab_type": "code",
        "colab": {}
      },
      "source": [
        "import time\n",
        "start_time = time.time()"
      ],
      "execution_count": 0,
      "outputs": []
    },
    {
      "cell_type": "code",
      "metadata": {
        "id": "ucjWcMoUhcEr",
        "colab_type": "code",
        "colab": {}
      },
      "source": [
        "for i in range(len(imagen_entrada)-1):\n",
        "  for j in range(len(imagen_entrada[0])-1):\n",
        "    # Use Aer's qasm_simulator\n",
        "    simulator = Aer.get_backend('qasm_simulator')\n",
        "\n",
        "    # Create a Quantum Circuit acting on the q register\n",
        "    circuit = QuantumCircuit(16, 2)\n",
        "    \n",
        "    #circuit.h(6)\n",
        "    #circuit.h(13)\n",
        "\n",
        "\n",
        "    #circuit.h(14)\n",
        "    #circuit.h(15)\n",
        "\n",
        "\n",
        "    twoGate(circuit,imagen_entrada,i,j,0,1,2,3,4,5,6,2,2) \n",
        "    twoGate(circuit,imagen_entrada,i+1,j,7,8,9,10,11,12,13,2,2) \n",
        "\n",
        "    compuerta(circuit,6,13,14)\n",
        "    compuerta(circuit,4,11,15)\n",
        "   # circuit.cx(13,14)\n",
        "    #circuit.x(15)\n",
        "    #circuit.cx(11,15)\n",
        "    #circuit.x(14)\n",
        "    \n",
        "    \n",
        "\n",
        "    # Add a H gate on qubit 0\n",
        "    #if imagen_entrada[i][j] == 1:\n",
        "    #  circuit.x(0)\n",
        "    #circuit.x(1)\n",
        "    #if imagen_entrada[i][j+1] == 1:\n",
        "    #  circuit.x(3)\n",
        "    #circuit.x(4)\n",
        "    #compuerta(circuit,0,1,2)\n",
        "    #compuerta(circuit,3,4,5)\n",
        "    #compuerta(circuit,1,4,6)\n",
        "    circuit.t(11)\n",
        "    circuit.t(14)\n",
        "    # Map the quantum measurement to the classical bits\n",
        "    circuit.measure([11,14], [0,1])\n",
        "\n",
        "    # Execute the circuit on the qasm simulator\n",
        "    job = execute(circuit, simulator, shots=160000)\n",
        "\n",
        "    # Grab results from the job\n",
        "    result = job.result()\n",
        "\n",
        "    # Returns counts\n",
        "    counts = result.get_counts(circuit)\n",
        "    #print(\"max\",max(counts))\n",
        "    b = max(counts)\n",
        "    #b = str(counts)[2:4]\n",
        "    #print( b, counts)\n",
        "    #b = a[3:8]\n",
        "    #print(\"\\nCount results:\",(counts),b)\n",
        "    if b == \"00\":\n",
        "      erosion.append(0)\n",
        "      dilatacion.append(0)\n",
        "    elif b == \"01\":\n",
        "      erosion.append(0)\n",
        "      dilatacion.append(1)\n",
        "    elif b == \"10\":\n",
        "      erosion.append(1)\n",
        "      dilatacion.append(0)\n",
        "    elif b == \"11\":\n",
        "      erosion.append(1)\n",
        "      dilatacion.append(1)\n",
        "    #print(erosion)\n",
        "    #print(dilatacion)\n",
        "# Draw the circuit\n",
        "\n",
        "\n",
        "# Plot a histogram\n",
        "#plot_histogram(counts)\n"
      ],
      "execution_count": 0,
      "outputs": []
    },
    {
      "cell_type": "code",
      "metadata": {
        "id": "Zt3tHGr-_ZGR",
        "colab_type": "code",
        "outputId": "c413c5a2-61bf-469b-abcf-9594b05ba08c",
        "colab": {
          "base_uri": "https://localhost:8080/",
          "height": 34
        }
      },
      "source": [
        "print(\"--- %s seconds ---\" % (time.time() - start_time))"
      ],
      "execution_count": 0,
      "outputs": [
        {
          "output_type": "stream",
          "text": [
            "--- 7503.975198030472 seconds ---\n"
          ],
          "name": "stdout"
        }
      ]
    },
    {
      "cell_type": "code",
      "metadata": {
        "id": "q4_pObDrStuN",
        "colab_type": "code",
        "outputId": "358b0437-c8ec-45db-a2bf-3400dc14659d",
        "colab": {
          "base_uri": "https://localhost:8080/",
          "height": 822
        }
      },
      "source": [
        "%matplotlib inline\n",
        "circuit.draw(output=\"mpl\")"
      ],
      "execution_count": 0,
      "outputs": [
        {
          "output_type": "execute_result",
          "data": {
            "image/png": "[encoded data removed]",
            "text/plain": [
              "<Figure size 1453.23x1047.48 with 1 Axes>"
            ]
          },
          "metadata": {
            "tags": []
          },
          "execution_count": 11
        }
      ]
    },
    {
      "cell_type": "code",
      "metadata": {
        "id": "Q21nJwCJhygi",
        "colab_type": "code",
        "outputId": "60dbd515-5e3c-4d98-ee18-44cb03bfd371",
        "colab": {
          "base_uri": "https://localhost:8080/",
          "height": 330
        }
      },
      "source": [
        "x = dilatacion\n",
        "x = np.array(x).reshape(128,128)\n",
        "#x = np.delete(x, [6], axis=1)\n",
        "print(\"dilatacion\")\n",
        "print()\n",
        "print(x)\n",
        "\n",
        "\n",
        "y = erosion\n",
        "y = np.array(y).reshape(128,128)\n",
        "#y = np.delete(y, [6], axis=1)\n",
        "print(\"erosion\")\n",
        "print()\n",
        "print(y)\n"
      ],
      "execution_count": 0,
      "outputs": [
        {
          "output_type": "stream",
          "text": [
            "dilatacion\n",
            "\n",
            "[[0 0 0 ... 0 0 0]\n",
            " [0 0 0 ... 0 0 0]\n",
            " [0 0 0 ... 0 0 0]\n",
            " ...\n",
            " [0 1 1 ... 0 0 0]\n",
            " [0 0 1 ... 0 0 0]\n",
            " [0 0 0 ... 0 0 0]]\n",
            "erosion\n",
            "\n",
            "[[0 0 0 ... 0 0 0]\n",
            " [0 0 0 ... 0 0 0]\n",
            " [0 0 0 ... 0 0 0]\n",
            " ...\n",
            " [1 1 1 ... 0 0 0]\n",
            " [0 1 1 ... 0 0 0]\n",
            " [0 0 0 ... 0 0 0]]\n"
          ],
          "name": "stdout"
        }
      ]
    },
    {
      "cell_type": "code",
      "metadata": {
        "id": "rIBXhna3Ld3Y",
        "colab_type": "code",
        "outputId": "5f7b1393-c9c6-482c-f8c4-674c5a862d14",
        "colab": {
          "base_uri": "https://localhost:8080/",
          "height": 809
        }
      },
      "source": [
        "from pylab import *\n",
        "#print(\"Imagen de entrada\")\n",
        "figure(1)\n",
        "title('Imagen de entrada')\n",
        "\n",
        "imagen_entrada_2 = np.delete(imagen_entrada, [0,7], axis=1)\n",
        "\n",
        "\n",
        "imshow(imagen_entrada_2, interpolation='nearest')\n",
        "grid(True)\n",
        "\n",
        "#print(\"Imagen dilatada\")\n",
        "figure(2)\n",
        "title('Imagen clausura')\n",
        "imshow(y, interpolation='nearest')\n",
        "grid(True)\n",
        "\n",
        "#print(\"Imagen erosionada\")\n",
        "figure(3)\n",
        "title('Imagen apertura')\n",
        "imshow(x, interpolation='nearest')\n",
        "grid(True)"
      ],
      "execution_count": 0,
      "outputs": [
        {
          "output_type": "display_data",
          "data": {
            "image/png": "[encoded data removed]",
            "text/plain": [
              "<Figure size 432x288 with 1 Axes>"
            ]
          },
          "metadata": {
            "tags": []
          }
        },
        {
          "output_type": "display_data",
          "data": {
            "image/png": "[encoded data removed]",
            "text/plain": [
              "<Figure size 432x288 with 1 Axes>"
            ]
          },
          "metadata": {
            "tags": []
          }
        },
        {
          "output_type": "display_data",
          "data": {
            "image/png": "[encoded data removed]",
            "text/plain": [
              "<Figure size 432x288 with 1 Axes>"
            ]
          },
          "metadata": {
            "tags": []
          }
        }
      ]
    },
    {
      "cell_type": "code",
      "metadata": {
        "id": "isVK0ridDO1n",
        "colab_type": "code",
        "outputId": "969dc09b-eeac-4070-bf89-2634e6172289",
        "colab": {
          "base_uri": "https://localhost:8080/",
          "height": 809
        }
      },
      "source": [
        "from pylab import *\n",
        "#print(\"Imagen de entrada\")\n",
        "figure(1)\n",
        "title('Imagen de entrada')\n",
        "\n",
        "imshow(img, interpolation='nearest')\n",
        "grid(True)\n",
        "\n",
        "#print(\"Imagen closing\")\n",
        "figure(2)\n",
        "title('Imagen clausura')\n",
        "imshow(img_closing, interpolation='nearest')\n",
        "grid(True)\n",
        "\n",
        "#print(\"Imagen erosionada\")\n",
        "figure(3)\n",
        "title('Imagen apertura')\n",
        "imshow(img_opening, interpolation='nearest')\n",
        "grid(True)"
      ],
      "execution_count": 0,
      "outputs": [
        {
          "output_type": "display_data",
          "data": {
            "image/png": "[encoded data removed]",
            "text/plain": [
              "<Figure size 432x288 with 1 Axes>"
            ]
          },
          "metadata": {
            "tags": []
          }
        },
        {
          "output_type": "display_data",
          "data": {
            "image/png": "[encoded data removed]",
            "text/plain": [
              "<Figure size 432x288 with 1 Axes>"
            ]
          },
          "metadata": {
            "tags": []
          }
        },
        {
          "output_type": "display_data",
          "data": {
            "image/png": "[encoded data removed]",
            "text/plain": [
              "<Figure size 432x288 with 1 Axes>"
            ]
          },
          "metadata": {
            "tags": []
          }
        }
      ]
    },
    {
      "cell_type": "code",
      "metadata": {
        "id": "k9dOgJc_YWkm",
        "colab_type": "code",
        "colab": {}
      },
      "source": [
        "def mse(imageA, imageB):\n",
        "\t# the 'Mean Squared Error' between the two images is the\n",
        "\t# sum of the squared difference between the two images;\n",
        "\t# NOTE: the two images must have the same dimension\n",
        "\terr = np.sum((imageA.astype(\"int\") - imageB.astype(\"int\")) ** 2)\n",
        "\terr /= float(imageA.shape[0] * imageA.shape[1])\n",
        "\t\n",
        "\t# return the MSE, the lower the error, the more \"similar\"\n",
        "\t# the two images are\n",
        "\treturn err"
      ],
      "execution_count": 0,
      "outputs": []
    },
    {
      "cell_type": "code",
      "metadata": {
        "id": "bSFNrpkpcRhD",
        "colab_type": "code",
        "colab": {}
      },
      "source": [
        "from skimage.metrics import structural_similarity as ssim\n",
        "\n",
        "#imagen_entrada = cv2.imread('lenna_by.png', 0) \n",
        "#scale_percent = 25 # percent of original size\n",
        "#width = int(imagen_entrada.shape[1] * scale_percent / 100)\n",
        "#height = int(imagen_entrada.shape[0] * scale_percent / 100)\n",
        "#dim = (width, height)\n",
        "\n",
        "#inp = cv2.resize(imagen_entrada, dim, interpolation = cv2.INTER_AREA)\n",
        "\n",
        "\n",
        "\n",
        "x= x*255\n",
        "x= x.astype(int)\n",
        "\n",
        "#a = np.zeros(len(x), dtype = int).reshape(len(x),1)\n",
        "#x = np.concatenate((a, x), axis=1)\n",
        "#a = np.zeros(len(x[0]), dtype = int).reshape(1,len(x[0]))\n",
        "#x = np.concatenate((a, x), axis=0)\n",
        "\n",
        "y = y*255\n",
        "y = y.astype(int)\n",
        "\n",
        "\n",
        "\n"
      ],
      "execution_count": 0,
      "outputs": []
    },
    {
      "cell_type": "code",
      "metadata": {
        "id": "O_yadbCMj5FH",
        "colab_type": "code",
        "outputId": "68bb766f-e458-4dc2-d291-c95a31589793",
        "colab": {
          "base_uri": "https://localhost:8080/",
          "height": 86
        }
      },
      "source": [
        "ms = mse(x,img_opening)\n",
        "s = ssim(x.astype(\"float\"), img_opening.astype(\"float\"))\n",
        "print(ms)\n",
        "\n",
        "ms2 = mse(y,img_closing)\n",
        "s2 = ssim(y.astype(\"float\"),img_closing.astype(\"float\"))\n",
        "print(ms2)\n",
        "\n",
        "\n",
        "ms3 = mse(x,img)\n",
        "s3 = ssim(x.astype(\"float\"),img.astype(\"float\"))\n",
        "print(ms3)\n",
        "\n",
        "ms4 = mse(y,img)\n",
        "s4 = ssim(y.astype(\"float\"),img.astype(\"float\"))\n",
        "print(ms4)"
      ],
      "execution_count": 0,
      "outputs": [
        {
          "output_type": "stream",
          "text": [
            "6715.228271484375\n",
            "7215.2984619140625\n",
            "10632.444763183594\n",
            "7147.828674316406\n"
          ],
          "name": "stdout"
        }
      ]
    },
    {
      "cell_type": "code",
      "metadata": {
        "id": "oAV0X4eeYMq2",
        "colab_type": "code",
        "outputId": "44a8faf4-966f-45f6-8615-d92ac631aece",
        "colab": {
          "base_uri": "https://localhost:8080/",
          "height": 86
        }
      },
      "source": [
        "import math\n",
        "aux = (255**2)/ms\n",
        "psrn = 10*math.log10(aux)\n",
        "print(psrn,s)\n",
        "\n",
        "aux2 = (255**2)/ms2\n",
        "psrn2 = 10*math.log10(aux2)\n",
        "print(psrn2,s2)\n",
        "\n",
        "\n",
        "aux3 = (255**2)/ms3\n",
        "psrn3 = 10*math.log10(aux3)\n",
        "print(psrn3,s3)\n",
        "\n",
        "\n",
        "aux4 = (255**2)/ms4\n",
        "psrn4 = 10*math.log10(aux4)\n",
        "print(psrn4,s4)\n"
      ],
      "execution_count": 0,
      "outputs": [
        {
          "output_type": "stream",
          "text": [
            "9.86019580592732 0.6357142769626927\n",
            "9.54826060409788 0.5617033846388311\n",
            "7.864472256875279 0.4334864224932673\n",
            "9.589062264762035 0.5441250065560047\n"
          ],
          "name": "stdout"
        }
      ]
    }
  ]
}