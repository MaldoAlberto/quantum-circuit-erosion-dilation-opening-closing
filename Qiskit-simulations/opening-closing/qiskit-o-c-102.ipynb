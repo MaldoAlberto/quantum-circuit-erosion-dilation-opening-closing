{
  "nbformat": 4,
  "nbformat_minor": 0,
  "metadata": {
    "colab": {
      "name": "qiskit_exp4_102_erosión_dilatación.ipynb",
      "provenance": [],
      "collapsed_sections": []
    },
    "kernelspec": {
      "name": "python3",
      "display_name": "Python 3"
    }
  },
  "cells": [
    {
      "cell_type": "code",
      "metadata": {
        "id": "DSCfEFmDgTgr",
        "colab_type": "code",
        "outputId": "7aa6fe03-638a-4e82-c944-9f7da17fb606",
        "colab": {
          "base_uri": "https://localhost:8080/",
          "height": 905
        }
      },
      "source": [
        "!pip install qiskit"
      ],
      "execution_count": 0,
      "outputs": [
        {
          "output_type": "stream",
          "text": [
            "Requirement already satisfied: qiskit in /usr/local/lib/python3.6/dist-packages (0.16.1)\n",
            "Requirement already satisfied: qiskit-ignis==0.2.0 in /usr/local/lib/python3.6/dist-packages (from qiskit) (0.2.0)\n",
            "Requirement already satisfied: qiskit-terra==0.12.0 in /usr/local/lib/python3.6/dist-packages (from qiskit) (0.12.0)\n",
            "Requirement already satisfied: qiskit-aer==0.4.1 in /usr/local/lib/python3.6/dist-packages (from qiskit) (0.4.1)\n",
            "Requirement already satisfied: qiskit-aqua==0.6.4 in /usr/local/lib/python3.6/dist-packages (from qiskit) (0.6.4)\n",
            "Requirement already satisfied: qiskit-ibmq-provider==0.5.0 in /usr/local/lib/python3.6/dist-packages (from qiskit) (0.5.0)\n",
            "Requirement already satisfied: scipy!=0.19.1,>=0.19 in /usr/local/lib/python3.6/dist-packages (from qiskit-ignis==0.2.0->qiskit) (1.4.1)\n",
            "Requirement already satisfied: numpy>=1.13 in /usr/local/lib/python3.6/dist-packages (from qiskit-ignis==0.2.0->qiskit) (1.17.5)\n",
            "Requirement already satisfied: setuptools>=40.1.0 in /usr/local/lib/python3.6/dist-packages (from qiskit-ignis==0.2.0->qiskit) (45.2.0)\n",
            "Requirement already satisfied: sympy>=1.3 in /usr/local/lib/python3.6/dist-packages (from qiskit-terra==0.12.0->qiskit) (1.5.1)\n",
            "Requirement already satisfied: jsonschema>=2.6 in /usr/local/lib/python3.6/dist-packages (from qiskit-terra==0.12.0->qiskit) (2.6.0)\n",
            "Requirement already satisfied: psutil>=5 in /usr/local/lib/python3.6/dist-packages (from qiskit-terra==0.12.0->qiskit) (5.4.8)\n",
            "Requirement already satisfied: dill>=0.3 in /usr/local/lib/python3.6/dist-packages (from qiskit-terra==0.12.0->qiskit) (0.3.1.1)\n",
            "Requirement already satisfied: networkx>=2.2; python_version > \"3.5\" in /usr/local/lib/python3.6/dist-packages (from qiskit-terra==0.12.0->qiskit) (2.4)\n",
            "Requirement already satisfied: ply>=3.10 in /usr/local/lib/python3.6/dist-packages (from qiskit-terra==0.12.0->qiskit) (3.11)\n",
            "Requirement already satisfied: marshmallow-polyfield<6,>=5.7 in /usr/local/lib/python3.6/dist-packages (from qiskit-terra==0.12.0->qiskit) (5.9)\n",
            "Requirement already satisfied: marshmallow<4,>=3 in /usr/local/lib/python3.6/dist-packages (from qiskit-terra==0.12.0->qiskit) (3.5.1)\n",
            "Requirement already satisfied: cython>=0.27.1 in /usr/local/lib/python3.6/dist-packages (from qiskit-aer==0.4.1->qiskit) (0.29.15)\n",
            "Requirement already satisfied: pybind11>=2.4 in /usr/local/lib/python3.6/dist-packages (from qiskit-aer==0.4.1->qiskit) (2.4.3)\n",
            "Requirement already satisfied: dlx in /usr/local/lib/python3.6/dist-packages (from qiskit-aqua==0.6.4->qiskit) (1.0.4)\n",
            "Requirement already satisfied: fastdtw in /usr/local/lib/python3.6/dist-packages (from qiskit-aqua==0.6.4->qiskit) (0.3.4)\n",
            "Requirement already satisfied: quandl in /usr/local/lib/python3.6/dist-packages (from qiskit-aqua==0.6.4->qiskit) (3.5.0)\n",
            "Requirement already satisfied: pyscf; sys_platform == \"linux\" or (python_version < \"3.8\" and sys_platform != \"win32\") in /usr/local/lib/python3.6/dist-packages (from qiskit-aqua==0.6.4->qiskit) (1.7.1)\n",
            "Requirement already satisfied: docplex in /usr/local/lib/python3.6/dist-packages (from qiskit-aqua==0.6.4->qiskit) (2.12.182)\n",
            "Requirement already satisfied: scikit-learn>=0.20.0 in /usr/local/lib/python3.6/dist-packages (from qiskit-aqua==0.6.4->qiskit) (0.22.1)\n",
            "Requirement already satisfied: h5py in /usr/local/lib/python3.6/dist-packages (from qiskit-aqua==0.6.4->qiskit) (2.8.0)\n",
            "Requirement already satisfied: cvxopt; python_version < \"3.8\" or sys_platform != \"win32\" in /usr/local/lib/python3.6/dist-packages (from qiskit-aqua==0.6.4->qiskit) (1.2.4)\n",
            "Requirement already satisfied: requests>=2.19 in /usr/local/lib/python3.6/dist-packages (from qiskit-ibmq-provider==0.5.0->qiskit) (2.21.0)\n",
            "Requirement already satisfied: requests-ntlm>=1.1.0 in /usr/local/lib/python3.6/dist-packages (from qiskit-ibmq-provider==0.5.0->qiskit) (1.1.0)\n",
            "Requirement already satisfied: websockets<8,>=7 in /usr/local/lib/python3.6/dist-packages (from qiskit-ibmq-provider==0.5.0->qiskit) (7.0)\n",
            "Requirement already satisfied: arrow>=0.15.5 in /usr/local/lib/python3.6/dist-packages (from qiskit-ibmq-provider==0.5.0->qiskit) (0.15.5)\n",
            "Requirement already satisfied: nest-asyncio!=1.1.0,>=1.0.0 in /usr/local/lib/python3.6/dist-packages (from qiskit-ibmq-provider==0.5.0->qiskit) (1.3.0)\n",
            "Requirement already satisfied: mpmath>=0.19 in /usr/local/lib/python3.6/dist-packages (from sympy>=1.3->qiskit-terra==0.12.0->qiskit) (1.1.0)\n",
            "Requirement already satisfied: decorator>=4.3.0 in /usr/local/lib/python3.6/dist-packages (from networkx>=2.2; python_version > \"3.5\"->qiskit-terra==0.12.0->qiskit) (4.4.1)\n",
            "Requirement already satisfied: inflection>=0.3.1 in /usr/local/lib/python3.6/dist-packages (from quandl->qiskit-aqua==0.6.4->qiskit) (0.3.1)\n",
            "Requirement already satisfied: pandas>=0.14 in /usr/local/lib/python3.6/dist-packages (from quandl->qiskit-aqua==0.6.4->qiskit) (0.25.3)\n",
            "Requirement already satisfied: python-dateutil in /usr/local/lib/python3.6/dist-packages (from quandl->qiskit-aqua==0.6.4->qiskit) (2.6.1)\n",
            "Requirement already satisfied: six in /usr/local/lib/python3.6/dist-packages (from quandl->qiskit-aqua==0.6.4->qiskit) (1.12.0)\n",
            "Requirement already satisfied: more-itertools in /usr/local/lib/python3.6/dist-packages (from quandl->qiskit-aqua==0.6.4->qiskit) (8.2.0)\n",
            "Requirement already satisfied: docloud>=1.0.375 in /usr/local/lib/python3.6/dist-packages (from docplex->qiskit-aqua==0.6.4->qiskit) (1.0.375)\n",
            "Requirement already satisfied: joblib>=0.11 in /usr/local/lib/python3.6/dist-packages (from scikit-learn>=0.20.0->qiskit-aqua==0.6.4->qiskit) (0.14.1)\n",
            "Requirement already satisfied: idna<2.9,>=2.5 in /usr/local/lib/python3.6/dist-packages (from requests>=2.19->qiskit-ibmq-provider==0.5.0->qiskit) (2.8)\n",
            "Requirement already satisfied: chardet<3.1.0,>=3.0.2 in /usr/local/lib/python3.6/dist-packages (from requests>=2.19->qiskit-ibmq-provider==0.5.0->qiskit) (3.0.4)\n",
            "Requirement already satisfied: urllib3<1.25,>=1.21.1 in /usr/local/lib/python3.6/dist-packages (from requests>=2.19->qiskit-ibmq-provider==0.5.0->qiskit) (1.24.3)\n",
            "Requirement already satisfied: certifi>=2017.4.17 in /usr/local/lib/python3.6/dist-packages (from requests>=2.19->qiskit-ibmq-provider==0.5.0->qiskit) (2019.11.28)\n",
            "Requirement already satisfied: cryptography>=1.3 in /usr/local/lib/python3.6/dist-packages (from requests-ntlm>=1.1.0->qiskit-ibmq-provider==0.5.0->qiskit) (2.8)\n",
            "Requirement already satisfied: ntlm-auth>=1.0.2 in /usr/local/lib/python3.6/dist-packages (from requests-ntlm>=1.1.0->qiskit-ibmq-provider==0.5.0->qiskit) (1.4.0)\n",
            "Requirement already satisfied: pytz>=2017.2 in /usr/local/lib/python3.6/dist-packages (from pandas>=0.14->quandl->qiskit-aqua==0.6.4->qiskit) (2018.9)\n",
            "Requirement already satisfied: cffi!=1.11.3,>=1.8 in /usr/local/lib/python3.6/dist-packages (from cryptography>=1.3->requests-ntlm>=1.1.0->qiskit-ibmq-provider==0.5.0->qiskit) (1.14.0)\n",
            "Requirement already satisfied: pycparser in /usr/local/lib/python3.6/dist-packages (from cffi!=1.11.3,>=1.8->cryptography>=1.3->requests-ntlm>=1.1.0->qiskit-ibmq-provider==0.5.0->qiskit) (2.19)\n"
          ],
          "name": "stdout"
        }
      ]
    },
    {
      "cell_type": "code",
      "metadata": {
        "id": "AmiZ6AwugQxU",
        "colab_type": "code",
        "outputId": "a3cbfa8d-6d2d-405b-c5b5-8047ef162663",
        "colab": {
          "base_uri": "https://localhost:8080/",
          "height": 34
        }
      },
      "source": [
        "import qiskit\n",
        "qiskit.__version__\n"
      ],
      "execution_count": 0,
      "outputs": [
        {
          "output_type": "execute_result",
          "data": {
            "text/plain": [
              "'0.12.0'"
            ]
          },
          "metadata": {
            "tags": []
          },
          "execution_count": 56
        }
      ]
    },
    {
      "cell_type": "code",
      "metadata": {
        "id": "EJwvMjQgDJEv",
        "colab_type": "code",
        "colab": {}
      },
      "source": [
        "import numpy as np\n",
        "from qiskit import(\n",
        "  QuantumCircuit,\n",
        "  execute,\n",
        "  Aer)\n",
        "from qiskit.visualization import plot_histogram"
      ],
      "execution_count": 0,
      "outputs": []
    },
    {
      "cell_type": "code",
      "metadata": {
        "id": "1-iAORXZyVFg",
        "colab_type": "code",
        "outputId": "76f21cc5-bd38-4ffc-fbf8-2bc2a0487e32",
        "colab": {
          "base_uri": "https://localhost:8080/",
          "height": 434
        }
      },
      "source": [
        "import cv2 \n",
        "img = cv2.imread('lenna_by.png', 0) \n",
        "kernel =cv2.getStructuringElement(cv2.MORPH_RECT,(2,2))\n",
        "\n",
        "scale_percent = 20 # percent of original size\n",
        "width = int(img.shape[1] * scale_percent / 100)\n",
        "height = int(img.shape[0] * scale_percent / 100)\n",
        "dim = (width, height)\n",
        "\n",
        "img = cv2.resize(img, dim, interpolation = cv2.INTER_AREA) \n",
        "ret, img = cv2.threshold(img,127,512,cv2.THRESH_BINARY)\n",
        "\n",
        "#img= img/255\n",
        "#img= img.astype(int)\n",
        "\n",
        "\n",
        "img_erosion = cv2.erode(img, kernel, iterations=1) \n",
        "img_dilation= cv2.dilate(img,kernel,iterations=1)\n",
        "print(\"kernel:\")\n",
        "print(kernel ) \n",
        "print()\n",
        "print()\n",
        "\n",
        "print( \"resultado de la erosion\")\n",
        "print( img_erosion)\n",
        "print()\n",
        "print()\n",
        "\n",
        "print( \"resultado de la dilatacion\")\n",
        "print( img_dilation)\n",
        "\n",
        "print(width)"
      ],
      "execution_count": 0,
      "outputs": [
        {
          "output_type": "stream",
          "text": [
            "kernel:\n",
            "[[1 1]\n",
            " [1 1]]\n",
            "\n",
            "\n",
            "resultado de la erosion\n",
            "[[255 255 255 ... 255 255 255]\n",
            " [255 255 255 ... 255 255   0]\n",
            " [255 255 255 ...   0   0   0]\n",
            " ...\n",
            " [  0   0   0 ...   0   0   0]\n",
            " [  0   0   0 ...   0   0   0]\n",
            " [  0   0   0 ...   0   0   0]]\n",
            "\n",
            "\n",
            "resultado de la dilatacion\n",
            "[[255 255 255 ... 255 255 255]\n",
            " [255 255 255 ... 255 255 255]\n",
            " [255 255 255 ... 255 255 255]\n",
            " ...\n",
            " [  0   0   0 ...   0   0   0]\n",
            " [  0   0   0 ...   0   0   0]\n",
            " [  0   0   0 ...   0   0   0]]\n",
            "102\n"
          ],
          "name": "stdout"
        }
      ]
    },
    {
      "cell_type": "code",
      "metadata": {
        "id": "NDWKV0t-gM0Q",
        "colab_type": "code",
        "colab": {}
      },
      "source": [
        ""
      ],
      "execution_count": 0,
      "outputs": []
    },
    {
      "cell_type": "code",
      "metadata": {
        "id": "g7tmFiCsEt4c",
        "colab_type": "code",
        "outputId": "c56498c1-d107-4c5e-f03f-73ad9c4e3dca",
        "colab": {
          "base_uri": "https://localhost:8080/",
          "height": 139
        }
      },
      "source": [
        "import cv2 \n",
        "imagen_entrada = cv2.imread('lenna_by.png', 0) \n",
        "#imagen_entrada = cv2.imread('baboon.png',0)\n",
        "\n",
        "scale_percent = 20 # percent of original size\n",
        "width = int(imagen_entrada.shape[1] * scale_percent / 100)\n",
        "height = int(imagen_entrada.shape[0] * scale_percent / 100)\n",
        "dim = (width, height)\n",
        "\n",
        "imagen_entrada = cv2.resize(imagen_entrada, dim, interpolation = cv2.INTER_AREA) \n",
        "ret, imagen_entrada = cv2.threshold(imagen_entrada,127,512,cv2.THRESH_BINARY)\n",
        "\n",
        "imagen_entrada= imagen_entrada/255\n",
        "imagen_entrada= imagen_entrada.astype(int)\n",
        "\n",
        "a = np.zeros(len(imagen_entrada), dtype = int).reshape(len(imagen_entrada),1)\n",
        "imagen_entrada = np.concatenate((a, imagen_entrada), axis=1)\n",
        "\n",
        "a = np.zeros(len(imagen_entrada[0]), dtype = int).reshape(1,len(imagen_entrada[0]))\n",
        "imagen_entrada = np.concatenate((a, imagen_entrada), axis=0)\n",
        "\n",
        "\n",
        "# para agregar columnas de ceros es iniciar uno a la iquierda y luego uno a la derecha,  y asíí hasta tener  n-1 del tamaño de la imagen de ancho\n",
        "print(imagen_entrada, len(imagen_entrada),len(imagen_entrada[0]))\n",
        "#salidas erosion y dilatacion\n",
        "erosion= []\n",
        "dilatacion = []\n"
      ],
      "execution_count": 0,
      "outputs": [
        {
          "output_type": "stream",
          "text": [
            "[[0 0 0 ... 0 0 0]\n",
            " [0 1 1 ... 1 1 1]\n",
            " [0 1 1 ... 1 1 0]\n",
            " ...\n",
            " [0 0 0 ... 0 0 0]\n",
            " [0 0 0 ... 0 0 0]\n",
            " [0 0 0 ... 0 0 0]] 103 103\n"
          ],
          "name": "stdout"
        }
      ]
    },
    {
      "cell_type": "code",
      "metadata": {
        "id": "nHwHo22ODhdG",
        "colab_type": "code",
        "colab": {}
      },
      "source": [
        "def compuerta(circuit,a,b,c):\n",
        "  circuit.x(a)\n",
        "  circuit.toffoli(a,b,c)\n",
        "  circuit.cx(c, b)\n",
        "  #circuit.x(a)\n",
        "  circuit.cx(a,c)\n",
        "  #circuit.cx(a,b)\n",
        "\n"
      ],
      "execution_count": 0,
      "outputs": []
    },
    {
      "cell_type": "code",
      "metadata": {
        "id": "_ZTvcUzMO949",
        "colab_type": "code",
        "colab": {}
      },
      "source": [
        "def twoGate(circuit,imagen_entrada,i,j,a,b,c,d,e,f,g,x0,x1):\n",
        "  if imagen_entrada[i][j] == 1:\n",
        "    circuit.x(a)\n",
        "  if x0 == 1:\n",
        "    circuit.x(b)\n",
        "  elif x0 == 2:\n",
        "    circuit.h(b)\n",
        "  if imagen_entrada[i][j+1] == 1:\n",
        "    circuit.x(d)\n",
        "  if x1 == 1:\n",
        "    circuit.x(e)\n",
        "  elif x1 == 2:\n",
        "    circuit.h(b)\n",
        "  #circuit.h(c)\n",
        "  #circuit.h(f)\n",
        "  #circuit.h(g)\n",
        "  compuerta(circuit,a,b,c)\n",
        "  compuerta(circuit,d,e,f)\n",
        "  compuerta(circuit,b,e,g) \n"
      ],
      "execution_count": 0,
      "outputs": []
    },
    {
      "cell_type": "code",
      "metadata": {
        "id": "x60U-SEy_VM5",
        "colab_type": "code",
        "colab": {}
      },
      "source": [
        "import time\n",
        "start_time = time.time()"
      ],
      "execution_count": 0,
      "outputs": []
    },
    {
      "cell_type": "code",
      "metadata": {
        "id": "ucjWcMoUhcEr",
        "colab_type": "code",
        "colab": {}
      },
      "source": [
        "\n",
        "for i in range(len(imagen_entrada)-1):\n",
        "  for j in range(len(imagen_entrada[0])-1):\n",
        "    # Use Aer's qasm_simulator\n",
        "    simulator = Aer.get_backend('qasm_simulator')\n",
        "\n",
        "    # Create a Quantum Circuit acting on the q register\n",
        "    circuit = QuantumCircuit(16, 2)\n",
        "    \n",
        "    #circuit.h(6)\n",
        "    #circuit.h(13)\n",
        "\n",
        "\n",
        "    #circuit.h(14)\n",
        "    #circuit.h(15)\n",
        "\n",
        "\n",
        "    twoGate(circuit,imagen_entrada,i,j,0,1,2,3,4,5,6,2,2) \n",
        "    twoGate(circuit,imagen_entrada,i+1,j,7,8,9,10,11,12,13,2,2) \n",
        "\n",
        "    compuerta(circuit,6,13,14)\n",
        "    compuerta(circuit,4,11,15)\n",
        "   # circuit.cx(13,14)\n",
        "    #circuit.x(15)\n",
        "    #circuit.cx(11,15)\n",
        "    #circuit.x(14)\n",
        "    \n",
        "    \n",
        "\n",
        "    # Add a H gate on qubit 0\n",
        "    #if imagen_entrada[i][j] == 1:\n",
        "    #  circuit.x(0)\n",
        "    #circuit.x(1)\n",
        "    #if imagen_entrada[i][j+1] == 1:\n",
        "    #  circuit.x(3)\n",
        "    #circuit.x(4)\n",
        "    #compuerta(circuit,0,1,2)\n",
        "    #compuerta(circuit,3,4,5)\n",
        "    #compuerta(circuit,1,4,6)\n",
        "    #circuit.t(11)\n",
        "    #circuit.t(14)\n",
        "    # Map the quantum measurement to the classical bits\n",
        "    circuit.measure([11,14], [0,1])\n",
        "\n",
        "    # Execute the circuit on the qasm simulator\n",
        "    job = execute(circuit, simulator, shots=10)\n",
        "\n",
        "    # Grab results from the job\n",
        "    result = job.result()\n",
        "\n",
        "    # Returns counts\n",
        "    counts = result.get_counts(circuit)\n",
        "    #print(\"max\",max(counts))\n",
        "    b = max(counts)\n",
        "    #b = str(counts)[2:4]\n",
        "    #print( b, counts)\n",
        "    #b = a[3:8]\n",
        "    #print(\"\\nCount results:\",(counts),b)\n",
        "    if b == \"00\":\n",
        "      erosion.append(0)\n",
        "      dilatacion.append(0)\n",
        "    elif b == \"01\":\n",
        "      erosion.append(0)\n",
        "      dilatacion.append(1)\n",
        "    elif b == \"10\":\n",
        "      erosion.append(1)\n",
        "      dilatacion.append(0)\n",
        "    elif b == \"11\":\n",
        "      erosion.append(1)\n",
        "      dilatacion.append(1)\n",
        "    #print(erosion)\n",
        "    #print(dilatacion)\n",
        "# Draw the circuit\n",
        "\n",
        "\n",
        "# Plot a histogram\n",
        "#plot_histogram(counts)\n"
      ],
      "execution_count": 0,
      "outputs": []
    },
    {
      "cell_type": "code",
      "metadata": {
        "id": "Zt3tHGr-_ZGR",
        "colab_type": "code",
        "outputId": "bb24407b-b328-4e10-8ba3-db4147776e97",
        "colab": {
          "base_uri": "https://localhost:8080/",
          "height": 34
        }
      },
      "source": [
        "print(\"--- %s seconds ---\" % (time.time() - start_time))"
      ],
      "execution_count": 0,
      "outputs": [
        {
          "output_type": "stream",
          "text": [
            "--- 453.02215695381165 seconds ---\n"
          ],
          "name": "stdout"
        }
      ]
    },
    {
      "cell_type": "code",
      "metadata": {
        "id": "q4_pObDrStuN",
        "colab_type": "code",
        "outputId": "00c8f283-13b3-4e53-f34b-187341e0604a",
        "colab": {
          "base_uri": "https://localhost:8080/",
          "height": 842
        }
      },
      "source": [
        "%matplotlib inline\n",
        "circuit.draw(output=\"mpl\")"
      ],
      "execution_count": 0,
      "outputs": [
        {
          "output_type": "execute_result",
          "data": {
            "image/png": "[encoded data removed]",
            "text/plain": [
              "<Figure size 1272.63x1047.48 with 1 Axes>"
            ]
          },
          "metadata": {
            "tags": []
          },
          "execution_count": 65
        }
      ]
    },
    {
      "cell_type": "code",
      "metadata": {
        "id": "Q21nJwCJhygi",
        "colab_type": "code",
        "outputId": "8f421539-d668-498b-e880-787918884c73",
        "colab": {
          "base_uri": "https://localhost:8080/",
          "height": 330
        }
      },
      "source": [
        "x = dilatacion\n",
        "x = np.array(x).reshape(102,102)\n",
        "#x = np.delete(x, [6], axis=1)\n",
        "print(\"dilatacion\")\n",
        "print()\n",
        "print(x)\n",
        "\n",
        "\n",
        "y = erosion\n",
        "y = np.array(y).reshape(102,102)\n",
        "#y = np.delete(y, [6], axis=1)\n",
        "print(\"erosion\")\n",
        "print()\n",
        "print(y)\n"
      ],
      "execution_count": 0,
      "outputs": [
        {
          "output_type": "stream",
          "text": [
            "dilatacion\n",
            "\n",
            "[[0 0 0 ... 0 0 0]\n",
            " [0 0 0 ... 0 0 0]\n",
            " [0 0 0 ... 0 0 0]\n",
            " ...\n",
            " [0 0 0 ... 0 0 0]\n",
            " [0 0 0 ... 0 0 0]\n",
            " [0 0 0 ... 0 0 0]]\n",
            "erosion\n",
            "\n",
            "[[0 0 0 ... 0 0 0]\n",
            " [0 0 0 ... 0 0 0]\n",
            " [0 0 0 ... 0 0 0]\n",
            " ...\n",
            " [0 0 0 ... 0 0 0]\n",
            " [0 0 0 ... 0 0 0]\n",
            " [0 0 0 ... 0 0 0]]\n"
          ],
          "name": "stdout"
        }
      ]
    },
    {
      "cell_type": "code",
      "metadata": {
        "id": "rIBXhna3Ld3Y",
        "colab_type": "code",
        "outputId": "25ae4882-153d-4ebd-8b65-f9188bd5d08c",
        "colab": {
          "base_uri": "https://localhost:8080/",
          "height": 809
        }
      },
      "source": [
        "from pylab import *\n",
        "#print(\"Imagen de entrada\")\n",
        "figure(1)\n",
        "title('Imagen de entrada')\n",
        "\n",
        "imagen_entrada_2 = np.delete(imagen_entrada, [0,7], axis=1)\n",
        "\n",
        "\n",
        "imshow(imagen_entrada_2, interpolation='nearest')\n",
        "grid(True)\n",
        "\n",
        "#print(\"Imagen dilatada\")\n",
        "figure(2)\n",
        "title('Imagen dilatada')\n",
        "imshow(y, interpolation='nearest')\n",
        "grid(True)\n",
        "\n",
        "#print(\"Imagen erosionada\")\n",
        "figure(3)\n",
        "title('Imagen erosionada')\n",
        "imshow(x, interpolation='nearest')\n",
        "grid(True)"
      ],
      "execution_count": 0,
      "outputs": [
        {
          "output_type": "display_data",
          "data": {
            "image/png": "[encoded data removed]",
            "text/plain": [
              "<Figure size 432x288 with 1 Axes>"
            ]
          },
          "metadata": {
            "tags": []
          }
        },
        {
          "output_type": "display_data",
          "data": {
            "image/png": "[encoded data removed]",
            "text/plain": [
              "<Figure size 432x288 with 1 Axes>"
            ]
          },
          "metadata": {
            "tags": []
          }
        },
        {
          "output_type": "display_data",
          "data": {
            "image/png": "[encoded data removed]",
            "text/plain": [
              "<Figure size 432x288 with 1 Axes>"
            ]
          },
          "metadata": {
            "tags": []
          }
        }
      ]
    },
    {
      "cell_type": "code",
      "metadata": {
        "id": "isVK0ridDO1n",
        "colab_type": "code",
        "outputId": "4c350999-6f3f-41c5-90e2-f9671d0b6bf0",
        "colab": {
          "base_uri": "https://localhost:8080/",
          "height": 809
        }
      },
      "source": [
        "from pylab import *\n",
        "#print(\"Imagen de entrada\")\n",
        "figure(1)\n",
        "title('Imagen de entrada')\n",
        "\n",
        "imshow(img, interpolation='nearest')\n",
        "grid(True)\n",
        "\n",
        "#print(\"Imagen closing\")\n",
        "figure(2)\n",
        "title('Imagen dilatada')\n",
        "imshow(img_dilation, interpolation='nearest')\n",
        "grid(True)\n",
        "\n",
        "#print(\"Imagen erosionada\")\n",
        "figure(3)\n",
        "title('Imagen erosionada')\n",
        "imshow(img_erosion, interpolation='nearest')\n",
        "grid(True)"
      ],
      "execution_count": 0,
      "outputs": [
        {
          "output_type": "display_data",
          "data": {
            "image/png": "[encoded data removed]",
            "text/plain": [
              "<Figure size 432x288 with 1 Axes>"
            ]
          },
          "metadata": {
            "tags": []
          }
        },
        {
          "output_type": "display_data",
          "data": {
            "image/png": "[encoded data removed]",
            "text/plain": [
              "<Figure size 432x288 with 1 Axes>"
            ]
          },
          "metadata": {
            "tags": []
          }
        },
        {
          "output_type": "display_data",
          "data": {
            "image/png": "[encoded data removed]",
            "text/plain": [
              "<Figure size 432x288 with 1 Axes>"
            ]
          },
          "metadata": {
            "tags": []
          }
        }
      ]
    },
    {
      "cell_type": "code",
      "metadata": {
        "id": "k9dOgJc_YWkm",
        "colab_type": "code",
        "colab": {}
      },
      "source": [
        "def mse(imageA, imageB):\n",
        "\t# the 'Mean Squared Error' between the two images is the\n",
        "\t# sum of the squared difference between the two images;\n",
        "\t# NOTE: the two images must have the same dimension\n",
        "\terr = np.sum((imageA.astype(\"int\") - imageB.astype(\"int\")) ** 2)\n",
        "\terr /= float(imageA.shape[0] * imageA.shape[1])\n",
        "\t\n",
        "\t# return the MSE, the lower the error, the more \"similar\"\n",
        "\t# the two images are\n",
        "\treturn err"
      ],
      "execution_count": 0,
      "outputs": []
    },
    {
      "cell_type": "code",
      "metadata": {
        "id": "bSFNrpkpcRhD",
        "colab_type": "code",
        "colab": {}
      },
      "source": [
        "from skimage.metrics import structural_similarity as ssim\n",
        "\n",
        "#imagen_entrada = cv2.imread('lenna_by.png', 0) \n",
        "#scale_percent = 25 # percent of original size\n",
        "#width = int(imagen_entrada.shape[1] * scale_percent / 100)\n",
        "#height = int(imagen_entrada.shape[0] * scale_percent / 100)\n",
        "#dim = (width, height)\n",
        "\n",
        "#inp = cv2.resize(imagen_entrada, dim, interpolation = cv2.INTER_AREA)\n",
        "\n",
        "\n",
        "\n",
        "x= x*255\n",
        "x= x.astype(int)\n",
        "\n",
        "#a = np.zeros(len(x), dtype = int).reshape(len(x),1)\n",
        "#x = np.concatenate((a, x), axis=1)\n",
        "#a = np.zeros(len(x[0]), dtype = int).reshape(1,len(x[0]))\n",
        "#x = np.concatenate((a, x), axis=0)\n",
        "\n",
        "y = y*255\n",
        "y = y.astype(int)\n",
        "\n",
        "\n",
        "\n"
      ],
      "execution_count": 0,
      "outputs": []
    },
    {
      "cell_type": "code",
      "metadata": {
        "id": "O_yadbCMj5FH",
        "colab_type": "code",
        "outputId": "a2e4245c-219e-4fa4-df14-16c2c138a378",
        "colab": {
          "base_uri": "https://localhost:8080/",
          "height": 86
        }
      },
      "source": [
        "ms = mse(x,img_erosion)\n",
        "s = ssim(x.astype(\"float\"), img_erosion.astype(\"float\"))\n",
        "print(ms)\n",
        "\n",
        "ms2 = mse(y,img_dilation)\n",
        "s2 = ssim(y.astype(\"float\"),img_dilation.astype(\"float\"))\n",
        "print(ms2)\n",
        "\n",
        "\n",
        "ms3 = mse(x,img)\n",
        "s3 = ssim(x.astype(\"float\"),img.astype(\"float\"))\n",
        "print(ms3)\n",
        "\n",
        "ms4 = mse(y,img)\n",
        "s4 = ssim(y.astype(\"float\"),img.astype(\"float\"))\n",
        "print(ms4)"
      ],
      "execution_count": 0,
      "outputs": [
        {
          "output_type": "stream",
          "text": [
            "32693.75\n",
            "43175.0\n",
            "37893.75\n",
            "37893.75\n"
          ],
          "name": "stdout"
        }
      ]
    },
    {
      "cell_type": "code",
      "metadata": {
        "id": "oAV0X4eeYMq2",
        "colab_type": "code",
        "outputId": "6b14852a-b258-4df3-f882-21cd712d121a",
        "colab": {
          "base_uri": "https://localhost:8080/",
          "height": 86
        }
      },
      "source": [
        "import math\n",
        "aux = (255**2)/ms\n",
        "psrn = 10*math.log10(aux)\n",
        "print(psrn,s)\n",
        "\n",
        "aux2 = (255**2)/ms2\n",
        "psrn2 = 10*math.log10(aux2)\n",
        "print(psrn2,s2)\n",
        "\n",
        "\n",
        "aux3 = (255**2)/ms3\n",
        "psrn3 = 10*math.log10(aux3)\n",
        "print(psrn3,s3)\n",
        "\n",
        "\n",
        "aux4 = (255**2)/ms4\n",
        "psrn4 = 10*math.log10(aux4)\n",
        "print(psrn4,s4)\n"
      ],
      "execution_count": 0,
      "outputs": [
        {
          "output_type": "stream",
          "text": [
            "2.9861562349639907 0.16655816086306596\n",
            "1.7784801462841395 0.04806857833476716\n",
            "2.3451277528886867 0.07606336942230069\n",
            "2.3451277528886867 0.07606336942230069\n"
          ],
          "name": "stdout"
        }
      ]
    }
  ]
}